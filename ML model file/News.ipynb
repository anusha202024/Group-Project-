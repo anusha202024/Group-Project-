{
  "nbformat": 4,
  "nbformat_minor": 0,
  "metadata": {
    "colab": {
      "provenance": [],
      "collapsed_sections": []
    },
    "kernelspec": {
      "name": "python3",
      "display_name": "Python 3"
    },
    "language_info": {
      "name": "python"
    }
  },
  "cells": [
    {
      "cell_type": "code",
      "source": [
        "from sklearn.datasets import fetch_20newsgroups_vectorized\n",
        "from sklearn.naive_bayes import MultinomialNB\n",
        "trainingSet = fetch_20newsgroups_vectorized(subset=\"train\")\n",
        "testSet = fetch_20newsgroups_vectorized(subset=\"test\")"
      ],
      "metadata": {
        "id": "QQGRMCeqMpgS"
      },
      "execution_count": null,
      "outputs": []
    },
    {
      "cell_type": "code",
      "source": [],
      "metadata": {
        "id": "BJScr8jYM15r",
        "colab": {
          "base_uri": "https://localhost:8080/"
        },
        "outputId": "ad14779b-7754-4055-d4e3-23fb0c82aa23"
      },
      "execution_count": null,
      "outputs": [
        {
          "output_type": "stream",
          "name": "stdout",
          "text": [
            "0.8351035581518853\n"
          ]
        }
      ]
    },
    {
      "cell_type": "code",
      "source": [
        "import pandas as pd\n",
        "import numpy as np\n",
        "from sklearn.feature_extraction.text import CountVectorizer\n",
        "from sklearn.model_selection import train_test_split\n",
        "from sklearn.naive_bayes import MultinomialNB\n",
        "\n",
        "data = pd.read_csv(\"https://raw.githubusercontent.com/amankharwal/Website-data/master/bbc-news-data.csv\", sep='\\t')\n",
        "print(data.head())"
      ],
      "metadata": {
        "id": "cwxdwpReM5YZ",
        "colab": {
          "base_uri": "https://localhost:8080/"
        },
        "outputId": "69c25cb6-7753-41a3-daf3-88d478a3c868"
      },
      "execution_count": null,
      "outputs": [
        {
          "output_type": "stream",
          "name": "stdout",
          "text": [
            "   category filename                              title  \\\n",
            "0  business  001.txt  Ad sales boost Time Warner profit   \n",
            "1  business  002.txt   Dollar gains on Greenspan speech   \n",
            "2  business  003.txt  Yukos unit buyer faces loan claim   \n",
            "3  business  004.txt  High fuel prices hit BA's profits   \n",
            "4  business  005.txt  Pernod takeover talk lifts Domecq   \n",
            "\n",
            "                                             content  \n",
            "0   Quarterly profits at US media giant TimeWarne...  \n",
            "1   The dollar has hit its highest level against ...  \n",
            "2   The owners of embattled Russian oil giant Yuk...  \n",
            "3   British Airways has blamed high fuel prices f...  \n",
            "4   Shares in UK drinks and food firm Allied Dome...  \n"
          ]
        }
      ]
    },
    {
      "cell_type": "code",
      "source": [
        "data = data[[\"title\", \"category\"]]\n",
        "\n",
        "x = np.array(data[\"title\"])\n",
        "y = np.array(data[\"category\"])\n",
        "\n",
        "cv = CountVectorizer()\n",
        "X = cv.fit_transform(x)\n",
        "X_train, X_test, y_train, y_test = train_test_split(X, y, test_size=0.33, random_state=42)\n",
        "print(data)"
      ],
      "metadata": {
        "id": "f5GR3c-PM7BX",
        "colab": {
          "base_uri": "https://localhost:8080/"
        },
        "outputId": "663f06aa-adf5-40fa-cad9-06f27c3a3368"
      },
      "execution_count": null,
      "outputs": [
        {
          "output_type": "stream",
          "name": "stdout",
          "text": [
            "                                  title  category\n",
            "0     Ad sales boost Time Warner profit  business\n",
            "1      Dollar gains on Greenspan speech  business\n",
            "2     Yukos unit buyer faces loan claim  business\n",
            "3     High fuel prices hit BA's profits  business\n",
            "4     Pernod takeover talk lifts Domecq  business\n",
            "...                                 ...       ...\n",
            "2220   BT program to beat dialler scams      tech\n",
            "2221    Spam e-mails tempt net shoppers      tech\n",
            "2222            Be careful how you code      tech\n",
            "2223    US cyber security chief resigns      tech\n",
            "2224   Losing yourself in online gaming      tech\n",
            "\n",
            "[2225 rows x 2 columns]\n"
          ]
        }
      ]
    },
    {
      "cell_type": "code",
      "source": [
        "model = MultinomialNB()\n",
        "model.fit(X_train,y_train)\n",
        "text=input(\"enter text: \")\n",
        "#headline=np.vectorize(text)\n",
        "headline = cv.transform([text]).toarray()\n",
        "\n",
        "output=model.predict(headline)\n",
        "print(output)"
      ],
      "metadata": {
        "id": "-hliIYZKM9KU",
        "colab": {
          "base_uri": "https://localhost:8080/"
        },
        "outputId": "7a9da88d-aa6c-4c9c-d60a-96b2ba9cfead"
      },
      "execution_count": null,
      "outputs": [
        {
          "output_type": "stream",
          "name": "stdout",
          "text": [
            "enter text: world cup in australia\n",
            "['sport']\n"
          ]
        }
      ]
    },
    {
      "cell_type": "code",
      "source": [],
      "metadata": {
        "id": "ZHWegMFYOFwH"
      },
      "execution_count": null,
      "outputs": []
    }
  ]
}